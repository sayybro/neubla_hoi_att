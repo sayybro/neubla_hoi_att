{
 "cells": [
  {
   "cell_type": "code",
   "execution_count": 1,
   "id": "d59e1caa",
   "metadata": {},
   "outputs": [],
   "source": [
    "import json\n",
    "train = json.load(open('./data/vaw/annotations/vaw_orig_train.json','r'))\n",
    "val = json.load(open('./data/vaw/annotations/vaw_orig_val.json','r'))\n",
    "test = json.load(open('./data/vaw/annotations/vaw_orig_test.json','r'))\n",
    "\n"
   ]
  },
  {
   "cell_type": "code",
   "execution_count": 4,
   "id": "0537f133",
   "metadata": {},
   "outputs": [
    {
     "data": {
      "text/plain": [
       "{'file_name': 'https://cs.stanford.edu/people/rak248/VG_100K/2359296.jpg',\n",
       " 'image_id': 2359296,\n",
       " 'boxes': [[50.0, 101.66666666666667, 33.5, 45.999999999999986],\n",
       "  [214.16666666666669, 72.5, 16.833333333333314, 33.5],\n",
       "  [0.0, 129.16666666666669, 500.16666666666663, 170.16666666666663]],\n",
       " 'category_id': [0, 0, 0],\n",
       " 'pos_att_id': [[2, 12], [2, 12], [12, 153, 193, 356, 442, 192]],\n",
       " 'neg_att_id': [[50, 26], [50, 26], []]}"
      ]
     },
     "execution_count": 4,
     "metadata": {},
     "output_type": "execute_result"
    }
   ],
   "source": [
    "train[0]\n"
   ]
  },
  {
   "cell_type": "code",
   "execution_count": 7,
   "id": "819346ae",
   "metadata": {},
   "outputs": [],
   "source": [
    "from PIL import Image\n",
    "import matplotlib.pyplot as plt\n",
    "import requests\n",
    "def plot_results(file_name, pred_cls, boxes,i):\n",
    "    req = requests.get(file_name,stream=True).raw\n",
    "    pil_img = Image.open(req)\n",
    "    plt.figure(figsize=(16,10))\n",
    "    plt.imshow(pil_img)\n",
    "    ax = plt.gca()\n",
    "    COLORS = [[0.000, 0.447, 0.741], [0.850, 0.325, 0.098], [0.929, 0.694, 0.125],\n",
    "          [0.494, 0.184, 0.556], [0.466, 0.674, 0.188], [0.301, 0.745, 0.933]]\n",
    "    colors = COLORS * 100\n",
    "    for p, (xmin, ymin, xmax, ymax), c in zip(pred_cls, boxes.tolist(), colors):\n",
    "        ax.add_patch(plt.Rectangle((xmin, ymin), xmax-xmin, ymax-ymin,\n",
    "                                   fill=False, color=c, linewidth=3))\n",
    "\n",
    "        text = f'{p}'\n",
    "        ax.text(xmin, ymin, text, fontsize=15,\n",
    "                bbox=dict(facecolor='yellow', alpha=0.5))\n",
    "    plt.axis('off')\n",
    "    plt.show()\n",
    "    \n",
    "def plot_results(file_name, boxes, img_big_sizes,idx): # for gt\n",
    "    COLORS = [[0.000, 0.447, 0.741], [0.850, 0.325, 0.098], [0.929, 0.694, 0.125],\n",
    "                [0.494, 0.184, 0.556], [0.466, 0.674, 0.188], [0.301, 0.745, 0.933]]\n",
    "    \n",
    "    \n",
    "    big_w, big_h, _, _ = img_big_sizes\n",
    "    small_w, small_h = pil_img.size\n",
    "\n",
    "    plt.figure(figsize=(16,10))\n",
    "    plt.imshow(pil_img)\n",
    "    ax = plt.gca()\n",
    "    for (xmin, ymin, xmax, ymax), c in zip(boxes.tolist(), COLORS * 100):\n",
    "        xmin = xmin / big_w * small_w\n",
    "        xmax = xmax / big_w * small_w\n",
    "        ymin = ymin / big_h * small_h\n",
    "        ymax = ymax / big_h * small_h\n",
    "\n",
    "        ax.add_patch(plt.Rectangle((xmin, ymin), xmax - xmin, ymax - ymin,\n",
    "                                fill=False, color=c, linewidth=3))\n",
    "    plt.axis('off')\n",
    "    plt.show()\n",
    "#     plt.savefig('vis/test.png')"
   ]
  },
  {
   "cell_type": "code",
   "execution_count": null,
   "id": "b8ccc856",
   "metadata": {},
   "outputs": [],
   "source": [
    "plot_results)"
   ]
  },
  {
   "cell_type": "code",
   "execution_count": null,
   "id": "9f07d0b9",
   "metadata": {},
   "outputs": [],
   "source": [
    "print(len(val['annotations']))\n",
    "print(len(val['images']))"
   ]
  },
  {
   "cell_type": "code",
   "execution_count": null,
   "id": "17a7e21e",
   "metadata": {},
   "outputs": [],
   "source": [
    "print(len(test['annotations']))\n",
    "print(len(test['images']))"
   ]
  }
 ],
 "metadata": {
  "kernelspec": {
   "display_name": "Python 3 (ipykernel)",
   "language": "python",
   "name": "python3"
  },
  "language_info": {
   "codemirror_mode": {
    "name": "ipython",
    "version": 3
   },
   "file_extension": ".py",
   "mimetype": "text/x-python",
   "name": "python",
   "nbconvert_exporter": "python",
   "pygments_lexer": "ipython3",
   "version": "3.7.11"
  }
 },
 "nbformat": 4,
 "nbformat_minor": 5
}
